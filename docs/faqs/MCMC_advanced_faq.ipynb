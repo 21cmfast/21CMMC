{
 "cells": [
  {
   "cell_type": "markdown",
   "metadata": {},
   "source": [
    "# Advanced MCMC FAQ"
   ]
  },
  {
   "cell_type": "markdown",
   "metadata": {},
   "source": [
    "This FAQ will cover several \"advanced\" topics that might come up in the context of doing MCMC with ``py21cmmc``. Throughout we will use the following imports:"
   ]
  },
  {
   "cell_type": "code",
   "execution_count": 1,
   "metadata": {},
   "outputs": [
    {
     "name": "stdout",
     "output_type": "stream",
     "text": [
      "0.1.0\n"
     ]
    }
   ],
   "source": [
    "from py21cmmc import mcmc, __version__\n",
    "\n",
    "print(__version__)"
   ]
  },
  {
   "cell_type": "markdown",
   "metadata": {},
   "source": [
    "## Continue Running a Chain After it has Stopped?"
   ]
  },
  {
   "cell_type": "markdown",
   "metadata": {},
   "source": [
    "``21CMMC`` has an inbuilt custom chain storage mechanism which uses ``h5py``. The storage class itself is found here:"
   ]
  },
  {
   "cell_type": "code",
   "execution_count": 2,
   "metadata": {},
   "outputs": [],
   "source": [
    "from py21cmmc.mcmc.cosmoHammer.storage import HDFStorage"
   ]
  },
  {
   "cell_type": "markdown",
   "metadata": {},
   "source": [
    "This class should not be required to be instantiated directly, however. In any case, this class has in-built mechanisms for detecting which iteration the chain is currently at, and saves the complete random state of the chain at each iteration. Thus, it can be started from wherever it stops (due to an exception, or walltime on a shared system). In practice, doing so is as easy as calling ``run_mcmc`` with the ``continue_sampling`` set to ``True`` (which it is by default). One just needs to ensure that the data directory and model name are consistent so that the previous chain can be located:"
   ]
  },
  {
   "cell_type": "code",
   "execution_count": null,
   "metadata": {},
   "outputs": [],
   "source": [
    "mcmc.run_mcmc(\n",
    "    core, likelihood,\n",
    "    datadir='.', model_name='a_model',\n",
    "    sampleIterations = 100\n",
    ")\n",
    "\n",
    "# ... process is stopped at 50 iterations...\n",
    "\n",
    "mcmc.run_mcmc(\n",
    "    core, likelihood,\n",
    "    datadir='.', model_name='a_model',\n",
    "    sampleIterations = 100,\n",
    "    continue_sampling=True\n",
    ")\n",
    "\n",
    "# ... will complete the 100 iterations."
   ]
  },
  {
   "cell_type": "markdown",
   "metadata": {},
   "source": [
    "Note that continuing the sampling will only complete up to the number of iterations given, rather than *doing* that number of iterations on that particular call. "
   ]
  },
  {
   "cell_type": "code",
   "execution_count": null,
   "metadata": {},
   "outputs": [],
   "source": []
  }
 ],
 "metadata": {
  "kernelspec": {
   "display_name": "Python [conda env:21CMMC]",
   "language": "python",
   "name": "conda-env-21CMMC-py"
  },
  "language_info": {
   "codemirror_mode": {
    "name": "ipython",
    "version": 3
   },
   "file_extension": ".py",
   "mimetype": "text/x-python",
   "name": "python",
   "nbconvert_exporter": "python",
   "pygments_lexer": "ipython3",
   "version": "3.6.5"
  },
  "latex_envs": {
   "LaTeX_envs_menu_present": true,
   "autoclose": false,
   "autocomplete": true,
   "bibliofile": "biblio.bib",
   "cite_by": "apalike",
   "current_citInitial": 1.0,
   "eqLabelWithNumbers": true,
   "eqNumInitial": 1.0,
   "hotkeys": {
    "equation": "Ctrl-E",
    "itemize": "Ctrl-I"
   },
   "labels_anchors": false,
   "latex_user_defs": false,
   "report_style_numbering": false,
   "user_envs_cfg": false
  },
  "toc": {
   "base_numbering": 1.0,
   "nav_menu": {},
   "number_sections": true,
   "sideBar": true,
   "skip_h1_title": false,
   "title_cell": "Table of Contents",
   "title_sidebar": "Contents",
   "toc_cell": false,
   "toc_position": {},
   "toc_section_display": true,
   "toc_window_display": false
  }
 },
 "nbformat": 4,
 "nbformat_minor": 2
}
