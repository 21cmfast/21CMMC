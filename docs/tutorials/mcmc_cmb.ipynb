{
 "cells": [
  {
   "cell_type": "markdown",
   "metadata": {},
   "source": [
    "# MCMC with Planck Likelihoods"
   ]
  },
  {
   "cell_type": "code",
   "execution_count": 1,
   "metadata": {
    "ExecuteTime": {
     "end_time": "2018-09-03T02:03:53.376435Z",
     "start_time": "2018-09-03T02:03:48.457964Z"
    },
    "init_cell": true
   },
   "outputs": [],
   "source": [
    "%matplotlib inline\n",
    "import matplotlib.pyplot as plt\n",
    "import numpy as np\n",
    "import py21cmmc as py21c\n",
    "\n",
    "from py21cmmc import analyse\n",
    "from py21cmmc import mcmc\n",
    "from py21cmmc import likelihood\n",
    "from py21cmmc import core\n",
    "\n",
    "\n",
    "%load_ext autoreload\n",
    "%autoreload 2\n",
    "\n",
    "import logging"
   ]
  },
  {
   "cell_type": "markdown",
   "metadata": {},
   "source": [
    "In this tutorial we demonstrate how to do MCMC with a lightcone, to fit just two astrophysical parameters without noise, and then visualise the results. This tutorial follows a very similar pattern to the MCMC intro, and you should follow that one first."
   ]
  },
  {
   "cell_type": "markdown",
   "metadata": {},
   "source": [
    "## Running MCMC"
   ]
  },
  {
   "cell_type": "markdown",
   "metadata": {},
   "source": [
    "To perform an MCMC on a lightcone is *very* similar to a Coeval cube. Merely use the ``CoreLightConeModule`` as the core module, and the ``Likelihood1DPowerLightcone`` as the likelihood. One extra parameter to the ``core`` is available -- ``max_redshift``, which specifies the approximate upper limit on the lightcone's depth. Note that this does **not** necessarily specify the maximum redshift at which the ionization will be computed (this is specified by ``z_heat_max``), it merely specifies where to start saving the ionization boxes into a lightcone. \n",
    "\n",
    "Furthermore, one extra parameter to the likelihood is available -- ``nchunks`` -- which allows to break the full lightcone up into independent chunks for which the power spectrum will be computed."
   ]
  },
  {
   "cell_type": "markdown",
   "metadata": {},
   "source": [
    "Thus, for example:"
   ]
  },
  {
   "cell_type": "code",
   "execution_count": 2,
   "metadata": {
    "ExecuteTime": {
     "end_time": "2018-09-03T02:03:53.424478Z",
     "start_time": "2018-09-03T02:03:53.394414Z"
    },
    "init_cell": true
   },
   "outputs": [],
   "source": [
    "core = py21c.CoreLightConeModule( # All core modules are prefixed by Core* and end with *Module\n",
    "    redshift = 6.0,              # Lower redshift of the lightcone\n",
    "    max_redshift = 20.0,          # Approximate maximum redshift of the lightcone (will be exceeded).\n",
    "    user_params = dict(       \n",
    "        HII_DIM = 50,         \n",
    "        BOX_LEN = 125.0\n",
    "    ),\n",
    "    z_step_factor=1.04,          # How large the steps between evaluated redshifts are (log).\n",
    "    z_heat_max=18.0,             # Completely ineffective since no spin temp or inhomogeneous recombinations.\n",
    "    regenerate=False          \n",
    ") # For other available options, see the docstring.\n",
    "\n",
    "# Now the likelihood...\n",
    "#datafiles = [\"data/lightcone_mcmc_data_%s.npz\"%i for i in range(4)]\n",
    "#likelihood = mcmc.Likelihood1DPowerLightcone(  # All likelihood modules are prefixed by Likelihood*\n",
    "#    datafile = datafiles,        # All likelihoods have this, which specifies where to write/read data\n",
    "#    logk=False,                 # Should the power spectrum bins be log-spaced?\n",
    "#    min_k=0.1,                  # Minimum k to use for likelihood\n",
    "#    max_k=1.0,                  # Maximum \"\"\n",
    "#    nchunks = 4,                 # Number of chunks to break the lightcone into\n",
    "#    simulate=True\n",
    "#) # For other available options, see the docstring\n"
   ]
  },
  {
   "cell_type": "code",
   "execution_count": 3,
   "metadata": {},
   "outputs": [],
   "source": [
    "planckEE = \"/Users/poulin/Dropbox/Labo/baseline/plc_3.0/low_l/simall/simall_100x143_offlike5_EE_Aplanck_B.clik/\"\n",
    "#likelihood.initialize_clik_and_class(planckEE)"
   ]
  },
  {
   "cell_type": "code",
   "execution_count": 4,
   "metadata": {},
   "outputs": [
    {
     "name": "stdout",
     "output_type": "stream",
     "text": [
      "import CLASS\n",
      "import clik\n"
     ]
    }
   ],
   "source": [
    "likelihoodPSEE = py21c.LikelihoodPlanckPowerSpectra(  # All likelihood modules are prefixed by Likelihood*\n",
    "    datafolder = planckEE,        # All likelihoods have this, which specifies where to write/read data\n",
    "    name_lkl = 'Planck_lowl_EE') # For other available options, see the docstring"
   ]
  },
  {
   "cell_type": "code",
   "execution_count": 5,
   "metadata": {},
   "outputs": [
    {
     "name": "stdout",
     "output_type": "stream",
     "text": [
      "import CLASS\n",
      "import clik\n"
     ]
    }
   ],
   "source": [
    "Planck_lensing = \"/Users/poulin/Dropbox/Labo/baseline/plc_3.0/lensing/smicadx12_Dec5_ftl_mv2_ndclpp_p_teb_consext8.clik_lensing\"\n",
    "likelihoodPSLensing = py21c.LikelihoodPlanckPowerSpectra(  # All likelihood modules are prefixed by Likelihood*\n",
    "    datafolder = Planck_lensing,        # All likelihoods have this, which specifies where to write/read data\n",
    "    name_lkl = 'Planck_lensing') # For other available options, see the docstring"
   ]
  },
  {
   "cell_type": "code",
   "execution_count": 6,
   "metadata": {},
   "outputs": [
    {
     "name": "stdout",
     "output_type": "stream",
     "text": [
      "import CLASS\n",
      "import clik\n"
     ]
    }
   ],
   "source": [
    "planckTTTEEE = \"/Users/poulin/Dropbox/Labo/baseline/plc_3.0/hi_l/plik_lite/plik_lite_v22_TT.clik\" \n",
    "likelihoodPSTTTEEE = py21c.LikelihoodPlanckPowerSpectra(  # All likelihood modules are prefixed by Likelihood*\n",
    "    datafolder = planckTTTEEE,        # All likelihoods have this, which specifies where to write/read data\n",
    "    name_lkl = 'Planck_highl_TTTEEE') # For other available options, see the docstring\n",
    "\n",
    "Likelihoodtau = py21c.LikelihoodPlanck()"
   ]
  },
  {
   "cell_type": "code",
   "execution_count": 7,
   "metadata": {},
   "outputs": [],
   "source": [
    "chains = mcmc.build_computation_chain([core],likelihoodPSEE)"
   ]
  },
  {
   "cell_type": "code",
   "execution_count": 8,
   "metadata": {},
   "outputs": [],
   "source": [
    "ctx = chains.build_model_data()"
   ]
  },
  {
   "cell_type": "code",
   "execution_count": 9,
   "metadata": {
    "scrolled": true
   },
   "outputs": [
    {
     "data": {
      "text/plain": [
       "-198.5105193304559"
      ]
     },
     "execution_count": 9,
     "metadata": {},
     "output_type": "execute_result"
    }
   ],
   "source": [
    "chains.computeLikelihoods(ctx)"
   ]
  },
  {
   "cell_type": "code",
   "execution_count": null,
   "metadata": {},
   "outputs": [
    {
     "name": "stderr",
     "output_type": "stream",
     "text": [
      "2019-11-01 16:07:16,203 INFO:Using CosmoHammer 0.6.1\n",
      "2019-11-01 16:07:16,204 INFO:Using emcee 2.2.1\n",
      "2019-11-01 16:07:16,236 INFO:all burnin iterations already completed\n",
      "2019-11-01 16:07:16,240 INFO:Sampler: <class 'py21cmmc.cosmoHammer.CosmoHammerSampler.CosmoHammerSampler'>\n",
      "configuration: \n",
      "  Params: [30.   4.7]\n",
      "  Burnin iterations: 0\n",
      "  Samples iterations: 100\n",
      "  Walkers ratio: 2\n",
      "  Reusing burn in: True\n",
      "  init pos generator: SampleBallPositionGenerator\n",
      "  stop criteria: IterationStopCriteriaStrategy\n",
      "  storage util: <py21cmmc.cosmoHammer.storage.HDFStorageUtil object at 0x11036e550>\n",
      "likelihoodComputationChain: \n",
      "Core Modules: \n",
      "  CoreLightConeModule\n",
      "Likelihood Modules: \n",
      "  LikelihoodPlanckPowerSpectra\n",
      "  LikelihoodPlanckPowerSpectra\n",
      "  LikelihoodPlanckPowerSpectra\n",
      "\n",
      "2019-11-01 16:07:16,249 INFO:start sampling after burn in\n",
      "2019-11-01 16:17:04,217 INFO:Iteration finished:10\n",
      "2019-11-01 16:25:30,454 INFO:Iteration finished:20\n"
     ]
    }
   ],
   "source": [
    "model_name = \"LightconeTest\"\n",
    "\n",
    "chain = mcmc.run_mcmc(\n",
    "    [core], [likelihoodPSTTTEEE,likelihoodPSEE,likelihoodPSLensing],        # Use lists if multiple cores/likelihoods required. These will be eval'd in order.\n",
    "    datadir='data',          # Directory for all outputs\n",
    "    model_name=model_name,   # Filename of main chain output\n",
    "    params=dict(             # Parameter dict as described above.\n",
    "        HII_EFF_FACTOR = [30.0, 10.0, 50.0, 3.0],\n",
    "        ION_Tvir_MIN = [4.7, 4, 6, 0.1],\n",
    "    ), \n",
    "    walkersRatio=2,         # The number of walkers will be walkersRatio*nparams\n",
    "    burninIterations=0,      # Number of iterations to save as burnin. Recommended to leave as zero.\n",
    "    sampleIterations=100,    # Number of iterations to sample, per walker.\n",
    "    threadCount=2,           # Number of processes to use in MCMC (best as a factor of walkersRatio)\n",
    "    continue_sampling=False,  # Whether to contine sampling from previous run *up to* sampleIterations.\n",
    "    log_level_stream=logging.DEBUG\n",
    ")\n"
   ]
  },
  {
   "cell_type": "code",
   "execution_count": null,
   "metadata": {},
   "outputs": [],
   "source": [
    "import clik\n",
    "click_res = clik."
   ]
  },
  {
   "cell_type": "markdown",
   "metadata": {},
   "source": [
    "## Analysis"
   ]
  },
  {
   "cell_type": "markdown",
   "metadata": {},
   "source": [
    "### Accessing chain data"
   ]
  },
  {
   "cell_type": "markdown",
   "metadata": {},
   "source": [
    "Access the samples object within the chain (see the intro for more details):"
   ]
  },
  {
   "cell_type": "code",
   "execution_count": null,
   "metadata": {
    "ExecuteTime": {
     "end_time": "2018-09-03T02:42:00.184945Z",
     "start_time": "2018-09-03T02:42:00.175720Z"
    }
   },
   "outputs": [],
   "source": [
    "samples = chain.samples"
   ]
  },
  {
   "cell_type": "markdown",
   "metadata": {},
   "source": [
    "### Trace Plot"
   ]
  },
  {
   "cell_type": "markdown",
   "metadata": {},
   "source": [
    "Often, for diagnostic purposes, the most useful plot to start with is the trace plot. This enables quick diagnosis of burnin time and walkers that haven't converged. The function in ``py21cmmc`` by default plots the log probability along with the various parameters that were fit. It also supports setting a starting iteration, and a thinning amount. "
   ]
  },
  {
   "cell_type": "code",
   "execution_count": null,
   "metadata": {
    "ExecuteTime": {
     "end_time": "2018-09-03T02:42:02.770932Z",
     "start_time": "2018-09-03T02:42:02.417348Z"
    }
   },
   "outputs": [],
   "source": [
    "analyse.trace_plot(samples, include_lnl=True, start_iter=0, thin=1, colored=False, show_guess=True);"
   ]
  },
  {
   "cell_type": "markdown",
   "metadata": {},
   "source": [
    "### Corner Plot"
   ]
  },
  {
   "cell_type": "code",
   "execution_count": null,
   "metadata": {
    "ExecuteTime": {
     "end_time": "2018-09-03T02:42:06.555377Z",
     "start_time": "2018-09-03T02:42:05.666187Z"
    }
   },
   "outputs": [],
   "source": [
    "analyse.corner_plot(samples);"
   ]
  },
  {
   "cell_type": "markdown",
   "metadata": {},
   "source": [
    "### Model Comparison Plot"
   ]
  },
  {
   "cell_type": "markdown",
   "metadata": {},
   "source": [
    "Extract all blob data from the samples:"
   ]
  },
  {
   "cell_type": "code",
   "execution_count": null,
   "metadata": {
    "ExecuteTime": {
     "end_time": "2018-09-03T02:42:09.008461Z",
     "start_time": "2018-09-03T02:42:08.977399Z"
    }
   },
   "outputs": [],
   "source": [
    "blobs = samples.get_blobs()"
   ]
  },
  {
   "cell_type": "markdown",
   "metadata": {},
   "source": [
    "Read in the data:"
   ]
  },
  {
   "cell_type": "code",
   "execution_count": null,
   "metadata": {
    "ExecuteTime": {
     "end_time": "2018-09-03T02:44:15.274209Z",
     "start_time": "2018-09-03T02:44:15.247908Z"
    }
   },
   "outputs": [],
   "source": [
    "delta_data = [d['delta'] for d in likelihood.data]\n",
    "k_data = [d['k'] for d in likelihood.data]"
   ]
  },
  {
   "cell_type": "markdown",
   "metadata": {},
   "source": [
    "Now, let's define a function which will plot our model comparison:"
   ]
  },
  {
   "cell_type": "code",
   "execution_count": null,
   "metadata": {
    "ExecuteTime": {
     "end_time": "2018-09-03T03:46:41.625231Z",
     "start_time": "2018-09-03T03:46:41.593655Z"
    }
   },
   "outputs": [],
   "source": [
    "def model_compare_plot(samples, k_data, delta_data, thin=1, start_iter=0):\n",
    "    chain = samples.get_chain(thin=thin, discard=start_iter, flat=True)\n",
    "    blobs = samples.get_blobs(thin=thin, discard=start_iter, flat=True)\n",
    "    \n",
    "    ks = [blobs[name] for name in samples.blob_names if name.startswith(\"k\")]\n",
    "    models = [blobs[name] for name in samples.blob_names if name.startswith(\"delta\")]\n",
    "    \n",
    "    fig, ax = plt.subplots(1, len(ks), sharex=True, sharey=True, figsize=(5*len(ks), 4.5), \n",
    "                          subplot_kw={\"xscale\":'log', \"yscale\":'log'}, gridspec_kw={\"hspace\":0.05, 'wspace':0.05},\n",
    "                          squeeze=False)\n",
    "\n",
    "    for i,(k,model, kd, data) in enumerate(zip(ks,models, k_data, delta_data)):\n",
    "        label=\"models\"\n",
    "\n",
    "        for pp in model:\n",
    "            ax[0,i].plot(k[0], pp, color='k', alpha=0.2, label=label, zorder=1)\n",
    "            if label:\n",
    "                label=None\n",
    "\n",
    "        mean = np.mean(model, axis=0)\n",
    "        std = np.std(model, axis=0)\n",
    "        md = np.median(model, axis=0)\n",
    "\n",
    "        ax[0,i].fill_between(k[0], mean - std, mean+std, color=\"C0\", alpha=0.6)\n",
    "        ax[0,i].plot(k[0], md, color=\"C0\", label=\"median model\")\n",
    "\n",
    "        ax[0,i].errorbar(kd, data, yerr = (0.15*data), color=\"C1\", \n",
    "                     label=\"data\", ls=\"None\", markersize=5, marker='o')\n",
    "\n",
    "        ax[0,i].set_xlabel(\"$k$ [Mpc$^{-3}$]\", fontsize=15)\n",
    "        ax[0,i].text(0.5, 0.86, \"Chunk %s\"%i, transform=ax[0,i].transAxes, fontsize=15, fontweight='bold')\n",
    "\n",
    "    ax[0,0].legend(fontsize=12)\n",
    "    #plt.ylim((3.1e2, 3.5e3))\n",
    "\n",
    "\n",
    "    ax[0,0].set_ylabel(\"$k^3 P$\", fontsize=15)\n",
    "\n",
    "#plt.savefig(join(direc, modelname+\"_power_spectrum_plot.pdf\"))"
   ]
  },
  {
   "cell_type": "code",
   "execution_count": null,
   "metadata": {
    "ExecuteTime": {
     "end_time": "2018-09-03T03:46:48.144936Z",
     "start_time": "2018-09-03T03:46:43.455404Z"
    }
   },
   "outputs": [],
   "source": [
    "model_compare_plot(samples, k_data, delta_data, thin=5)"
   ]
  },
  {
   "cell_type": "code",
   "execution_count": null,
   "metadata": {},
   "outputs": [],
   "source": [
    "common_settings = {\n",
    "           'output' : 'tCl, pCl, lCl',\n",
    "           'lensing':'yes',\n",
    "           'l_max_scalars':3000,\n",
    "           # LambdaCDM parameters\n",
    "           #'h':h,\n",
    "           #'omega_b':omega_b,\n",
    "           #'omega_cdm':omega_cdm,\n",
    "           #'A_s':A_s,\n",
    "           #'n_s':n_s,\n",
    "           # Take fixed value for primordial Helium (instead of automatic BBN adjustment)\n",
    "           #'reio_parametrization':'reio_camb',\n",
    "           #'reio_inter_num':len(xe),\n",
    "           #'reio_inter_z':','.join([str(x) for x in redshift_class]), #str(redshift_class),\n",
    "           #'reio_inter_xe':','.join([str(x) for x in xe]),\n",
    "            'input_verbose': 1,\n",
    "            'background_verbose': 1,\n",
    "            'thermodynamics_verbose': 1,\n",
    "            'perturbations_verbose': 1,\n",
    "            'transfer_verbose': 1,\n",
    "            'primordial_verbose': 1,\n",
    "            'spectra_verbose': 1,\n",
    "            'nonlinear_verbose': 1,\n",
    "            'lensing_verbose': 1,\n",
    "            'output_verbose': 1}\n",
    "\n",
    "\n",
    "##############\n",
    "#\n",
    "# call CLASS\n",
    "#\n",
    "###############\n",
    "cosmo = Class()\n",
    "cosmo.struct_cleanup()\n",
    "#cosmo.set(common_settings)\n",
    "#cosmo.set({'omega_b':0.022032,'omega_cdm':0.12038,'h':0.67556,'A_s':2.215e-9,'n_s':0.9619,'tau_reio':0.0925})\n",
    "cosmo.set({'output':'tCl,mPk','lensing':'no','P_k_max_1/Mpc':3.0,'l_max_scalars':3000})\n",
    "#print('starting to compute Class with:',common_settings)\n",
    "cosmo.compute()\n",
    "thermo = cosmo.get_thermodynamics()\n",
    "#thermo.items()\n",
    "xe_class = thermo['x_e']\n",
    "z_class = thermo['z']\n",
    "print('xe, z ',xe_class,z_class)\n",
    "l_max=2000\n",
    "cl=cosmo.raw_cl(int(l_max))\n",
    "print(cl)\n",
    "derived = cosmo.get_current_derived_parameters(['tau_rec','conformal_age'])\n",
    "print(derived)\n",
    "\n",
    "\n",
    "kk = np.logspace(-4,np.log10(3),1000)\n",
    "Pk = []\n",
    "for k in kk:\n",
    "    Pk.append(cosmo.pk(k,0.)) # function .pk(k,z)\n",
    "#print(Pk)\n",
    "plt.figure(2)\n",
    "plt.xscale('log');plt.yscale('log');plt.xlim(kk[0],kk[-1])\n",
    "plt.xlabel(r'$k \\,\\,\\,\\, [h/\\mathrm{Mpc}]$')\n",
    "plt.ylabel(r'$P(k) \\,\\,\\,\\, [\\mathrm{Mpc}/h]^3$')\n",
    "plt.plot(kk,Pk,'b-')\n",
    "plt.show()\n",
    "    "
   ]
  },
  {
   "cell_type": "code",
   "execution_count": null,
   "metadata": {},
   "outputs": [],
   "source": []
  }
 ],
 "metadata": {
  "celltoolbar": "Initialization Cell",
  "kernelspec": {
   "display_name": "Python [conda env:21cmfast] *",
   "language": "python",
   "name": "conda-env-21cmfast-py"
  },
  "language_info": {
   "codemirror_mode": {
    "name": "ipython",
    "version": 3
   },
   "file_extension": ".py",
   "mimetype": "text/x-python",
   "name": "python",
   "nbconvert_exporter": "python",
   "pygments_lexer": "ipython3",
   "version": "3.7.4"
  },
  "latex_envs": {
   "LaTeX_envs_menu_present": true,
   "autoclose": false,
   "autocomplete": true,
   "bibliofile": "biblio.bib",
   "cite_by": "apalike",
   "current_citInitial": 1,
   "eqLabelWithNumbers": true,
   "eqNumInitial": 1,
   "hotkeys": {
    "equation": "Ctrl-E",
    "itemize": "Ctrl-I"
   },
   "labels_anchors": false,
   "latex_user_defs": false,
   "report_style_numbering": false,
   "user_envs_cfg": false
  },
  "toc": {
   "base_numbering": 1,
   "nav_menu": {},
   "number_sections": true,
   "sideBar": true,
   "skip_h1_title": false,
   "title_cell": "Table of Contents",
   "title_sidebar": "Contents",
   "toc_cell": false,
   "toc_position": {},
   "toc_section_display": true,
   "toc_window_display": true
  }
 },
 "nbformat": 4,
 "nbformat_minor": 2
}
