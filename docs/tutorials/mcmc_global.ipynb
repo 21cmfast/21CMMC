{
 "cells": [
  {
   "cell_type": "markdown",
   "metadata": {},
   "source": [
    "# MCMC with LightCones"
   ]
  },
  {
   "cell_type": "code",
   "execution_count": 1,
   "metadata": {
    "ExecuteTime": {
     "end_time": "2018-10-10T18:47:35.330610Z",
     "start_time": "2018-10-10T18:47:34.576029Z"
    },
    "init_cell": true
   },
   "outputs": [],
   "source": [
    "%matplotlib inline\n",
    "import matplotlib.pyplot as plt\n",
    "import numpy as np\n",
    "\n",
    "from py21cmmc.mcmc import analyse\n",
    "from py21cmmc import mcmc\n",
    "\n",
    "%load_ext autoreload\n",
    "%autoreload 2"
   ]
  },
  {
   "cell_type": "markdown",
   "metadata": {},
   "source": [
    "In this tutorial we demonstrate two main ideas: how to use the non-power-spectrum likelihoods provided in ``21CMMC``, and how to use more than one likelihood at a time. The extra likelihoods that we use were called \"priors\" in previous versions and publications, and they can help break parameter degeneracies in some cases."
   ]
  },
  {
   "cell_type": "code",
   "execution_count": 2,
   "metadata": {
    "ExecuteTime": {
     "end_time": "2018-10-10T18:47:35.352623Z",
     "start_time": "2018-10-10T18:47:35.332065Z"
    },
    "init_cell": true
   },
   "outputs": [
    {
     "data": {
      "text/plain": [
       "'0.1.0'"
      ]
     },
     "execution_count": 2,
     "metadata": {},
     "output_type": "execute_result"
    }
   ],
   "source": [
    "import py21cmmc\n",
    "py21cmmc.__version__"
   ]
  },
  {
   "cell_type": "markdown",
   "metadata": {},
   "source": [
    "## Setting up cores and likelihoods"
   ]
  },
  {
   "cell_type": "markdown",
   "metadata": {},
   "source": [
    "The various extra likelihoods provided work *best* (but not exclusively) with a Lightcone core, so we will use them in conjunction with a lightcone likelihood. This is because they typically measure the global average of a quantity (either brightness temperature or neutral fraction) as a function of redshift. "
   ]
  },
  {
   "cell_type": "markdown",
   "metadata": {},
   "source": [
    "For the core, we take the same as that used in the lightcone MCMC intro:"
   ]
  },
  {
   "cell_type": "code",
   "execution_count": 3,
   "metadata": {
    "ExecuteTime": {
     "end_time": "2018-10-10T18:47:35.370252Z",
     "start_time": "2018-10-10T18:47:35.354563Z"
    },
    "init_cell": true
   },
   "outputs": [],
   "source": [
    "core = mcmc.CoreLightConeModule( # All core modules are prefixed by Core* and end with *Module\n",
    "    redshift = 5.5,              # Lower redshift of the lightcone\n",
    "    max_redshift = 8.0,          # Approximate maximum redshift of the lightcone (will be exceeded).\n",
    "    user_params = dict(       \n",
    "        HII_DIM = 50,         \n",
    "        BOX_LEN = 125.0\n",
    "    ),\n",
    "    z_step_factor=1.04,          # How large the steps between evaluated redshifts are (log).\n",
    "    z_heat_max=18.0,             # Completely ineffective since no spin temp or inhomogeneous recombinations.\n",
    "    regenerate=False,\n",
    "    nchunks=4\n",
    ") # For other available options, see the docstring."
   ]
  },
  {
   "cell_type": "markdown",
   "metadata": {},
   "source": [
    "Now we instantiate several different likelihoods, beginning with the basic 1D power spectrum:"
   ]
  },
  {
   "cell_type": "code",
   "execution_count": 4,
   "metadata": {
    "ExecuteTime": {
     "end_time": "2018-10-10T18:47:35.398921Z",
     "start_time": "2018-10-10T18:47:35.371965Z"
    },
    "init_cell": true
   },
   "outputs": [],
   "source": [
    "# Now the likelihood...\n",
    "datafiles = [\"data/lightcone_mcmc_data_%s.npz\"%i for i in range(4)]\n",
    "likelihood_ps = mcmc.Likelihood1DPowerLightcone(  # All likelihood modules are prefixed by Likelihood*\n",
    "    datafile = datafiles,        # All likelihoods have this, which specifies where to write/read data\n",
    "    logk=False,                 # Should the power spectrum bins be log-spaced?\n",
    "    min_k=0.1,                  # Minimum k to use for likelihood\n",
    "    max_k=1.0,                  # Maximum \"\"\n",
    "    nchunks = 4,                 # Number of chunks to break the lightcone into\n",
    "    simulate=True\n",
    ") # For other available options, see the docstring\n",
    "\n",
    "likelihood_planck = mcmc.LikelihoodPlanck()  # there are no options here, though some class variables\n",
    "                                             # can be set to change the behaviour (eg. tau_mean, tu_sigma)\n",
    "    \n",
    "likelihood_mcgreer = mcmc.LikelihoodNeutralFraction()  # Again, no required options, though the options\n",
    "                                                       # redshift, xHI_mean, xHI_sigma can be set. By default\n",
    "                                                       # they evaluate to the McGreer values.\n",
    "        \n",
    "likelihood_greig = mcmc.LikelihoodGreig()"
   ]
  },
  {
   "cell_type": "markdown",
   "metadata": {},
   "source": [
    "## Running MCMC"
   ]
  },
  {
   "cell_type": "code",
   "execution_count": 5,
   "metadata": {
    "ExecuteTime": {
     "end_time": "2018-10-10T18:49:42.346467Z",
     "start_time": "2018-10-10T18:47:39.089178Z"
    }
   },
   "outputs": [
    {
     "name": "stdout",
     "output_type": "stream",
     "text": [
      "Initializing init and perturb boxes for the entire chain...Existing init_boxes found and read in.\n",
      "Existing z=5.5 perturb_field boxes found and read in.\n",
      " done.\n",
      "Existing z=8.251526780739653 perturb_field boxes found and read in.\n",
      "Existing z=7.8956988276342805 perturb_field boxes found and read in.\n",
      "Existing z=7.553556565032961 perturb_field boxes found and read in.\n",
      "Existing z=7.224573620224001 perturb_field boxes found and read in.\n",
      "Existing z=6.908243865600001 perturb_field boxes found and read in.\n",
      "Existing z=6.604080640000001 perturb_field boxes found and read in.\n",
      "Existing z=6.311616000000001 perturb_field boxes found and read in.\n",
      "Existing z=6.0304 perturb_field boxes found and read in.\n",
      "Existing z=5.76 perturb_field boxes found and read in.\n",
      "Existing z=5.5 perturb_field boxes found and read in.\n",
      "Existing z=8.251526780739653 perturb_field boxes found and read in.\n",
      "Existing z=8.251526780739653 perturb_field boxes found and read in.\n",
      "Existing z=8.251526780739653 perturb_field boxes found and read in.\n",
      "Existing z=8.251526780739653 perturb_field boxes found and read in.\n",
      "Existing z=7.8956988276342805 perturb_field boxes found and read in.\n",
      "Existing z=7.8956988276342805 perturb_field boxes found and read in.\n",
      "Existing z=7.8956988276342805 perturb_field boxes found and read in.\n",
      "Existing z=7.8956988276342805 perturb_field boxes found and read in.\n",
      "Existing z=7.553556565032961 perturb_field boxes found and read in.\n",
      "Existing z=7.553556565032961 perturb_field boxes found and read in.\n",
      "Existing z=7.553556565032961 perturb_field boxes found and read in.\n",
      "Existing z=7.553556565032961 perturb_field boxes found and read in.\n",
      "Existing z=7.224573620224001 perturb_field boxes found and read in.\n",
      "Existing z=7.224573620224001 perturb_field boxes found and read in.\n",
      "Existing z=7.224573620224001 perturb_field boxes found and read in.\n",
      "Existing z=7.224573620224001 perturb_field boxes found and read in.\n",
      "Existing z=6.908243865600001 perturb_field boxes found and read in.\n",
      "Existing z=6.908243865600001 perturb_field boxes found and read in.\n",
      "Existing z=6.908243865600001 perturb_field boxes found and read in.\n",
      "Existing z=6.908243865600001 perturb_field boxes found and read in.\n",
      "Existing z=6.604080640000001 perturb_field boxes found and read in.\n",
      "Existing z=6.604080640000001 perturb_field boxes found and read in.\n",
      "Existing z=6.604080640000001 perturb_field boxes found and read in.\n",
      "Existing z=6.604080640000001 perturb_field boxes found and read in.\n",
      "Existing z=6.311616000000001 perturb_field boxes found and read in.\n",
      "Existing z=6.311616000000001 perturb_field boxes found and read in.\n",
      "Existing z=6.311616000000001 perturb_field boxes found and read in.\n",
      "Existing z=6.311616000000001 perturb_field boxes found and read in.\n",
      "Existing z=6.0304 perturb_field boxes found and read in.\n",
      "Existing z=6.0304 perturb_field boxes found and read in.\n",
      "Existing z=6.0304 perturb_field boxes found and read in.\n",
      "Existing z=6.0304 perturb_field boxes found and read in.\n",
      "Existing z=5.76 perturb_field boxes found and read in.\n",
      "Existing z=5.76 perturb_field boxes found and read in.\n",
      "Existing z=5.76 perturb_field boxes found and read in.\n",
      "Existing z=5.76 perturb_field boxes found and read in.\n",
      "Existing z=5.5 perturb_field boxes found and read in.\n",
      "Existing z=5.5 perturb_field boxes found and read in.\n",
      "Existing z=5.5 perturb_field boxes found and read in.\n",
      "Existing z=5.5 perturb_field boxes found and read in.\n",
      "5.9 0.05587249560028143 0\n",
      "5.9 0.016638224287311286 0\n",
      "Existing z=8.251526780739653 perturb_field boxes found and read in.\n",
      "5.9 0.014669205035915147 0\n",
      "Existing z=8.251526780739653 perturb_field boxes found and read in.\n",
      "Existing z=8.251526780739653 perturb_field boxes found and read in.\n",
      "5.9 0.002320690423225403 0\n",
      "Existing z=8.251526780739653 perturb_field boxes found and read in.\n",
      "Existing z=7.8956988276342805 perturb_field boxes found and read in.\n",
      "Existing z=7.8956988276342805 perturb_field boxes found and read in.\n",
      "Existing z=7.8956988276342805 perturb_field boxes found and read in.\n",
      "Existing z=7.8956988276342805 perturb_field boxes found and read in.\n",
      "Existing z=7.553556565032961 perturb_field boxes found and read in.\n",
      "Existing z=7.553556565032961 perturb_field boxes found and read in.\n",
      "Existing z=7.553556565032961 perturb_field boxes found and read in.\n",
      "Existing z=7.553556565032961 perturb_field boxes found and read in.\n",
      "Existing z=7.224573620224001 perturb_field boxes found and read in.\n",
      "Existing z=7.224573620224001 perturb_field boxes found and read in.\n",
      "Existing z=7.224573620224001 perturb_field boxes found and read in.\n",
      "Existing z=7.224573620224001 perturb_field boxes found and read in.\n",
      "Existing z=6.908243865600001 perturb_field boxes found and read in.\n",
      "Existing z=6.908243865600001 perturb_field boxes found and read in.\n",
      "Existing z=6.908243865600001 perturb_field boxes found and read in.\n",
      "Existing z=6.908243865600001 perturb_field boxes found and read in.\n",
      "Existing z=6.604080640000001 perturb_field boxes found and read in.\n",
      "Existing z=6.604080640000001 perturb_field boxes found and read in.\n",
      "Existing z=6.604080640000001 perturb_field boxes found and read in.\n",
      "Existing z=6.604080640000001 perturb_field boxes found and read in.\n",
      "Existing z=6.311616000000001 perturb_field boxes found and read in.\n",
      "Existing z=6.311616000000001 perturb_field boxes found and read in.\n",
      "Existing z=6.311616000000001 perturb_field boxes found and read in.\n",
      "Existing z=6.311616000000001 perturb_field boxes found and read in.\n",
      "Existing z=6.0304 perturb_field boxes found and read in.\n",
      "Existing z=6.0304 perturb_field boxes found and read in.\n",
      "Existing z=6.0304 perturb_field boxes found and read in.\n",
      "Existing z=6.0304 perturb_field boxes found and read in.\n",
      "Existing z=5.76 perturb_field boxes found and read in.\n",
      "Existing z=5.76 perturb_field boxes found and read in.\n",
      "Existing z=5.76 perturb_field boxes found and read in.\n",
      "Existing z=5.76 perturb_field boxes found and read in.\n",
      "Existing z=5.5 perturb_field boxes found and read in.\n",
      "Existing z=5.5 perturb_field boxes found and read in.\n",
      "Existing z=5.5 perturb_field boxes found and read in.\n",
      "Existing z=5.5 perturb_field boxes found and read in.\n",
      "5.9 0.023939041597162508 0\n",
      "5.9 0.0417522063655173 0\n",
      "5.9 0.0038381398027933656 0\n",
      "5.9 0.003996813173830162 0\n",
      "Existing z=8.251526780739653 perturb_field boxes found and read in.\n",
      "Existing z=8.251526780739653 perturb_field boxes found and read in.\n",
      "Existing z=8.251526780739653 perturb_field boxes found and read in.\n",
      "Existing z=8.251526780739653 perturb_field boxes found and read in.\n",
      "Existing z=7.8956988276342805 perturb_field boxes found and read in.\n",
      "Existing z=7.8956988276342805 perturb_field boxes found and read in.\n",
      "Existing z=7.8956988276342805 perturb_field boxes found and read in.\n",
      "Existing z=7.8956988276342805 perturb_field boxes found and read in.\n",
      "Existing z=7.553556565032961 perturb_field boxes found and read in.\n",
      "Existing z=7.553556565032961 perturb_field boxes found and read in.\n",
      "Existing z=7.553556565032961 perturb_field boxes found and read in.\n",
      "Existing z=7.553556565032961 perturb_field boxes found and read in.\n",
      "Existing z=7.224573620224001 perturb_field boxes found and read in.\n",
      "Existing z=7.224573620224001 perturb_field boxes found and read in.\n",
      "Existing z=7.224573620224001 perturb_field boxes found and read in.\n",
      "Existing z=7.224573620224001 perturb_field boxes found and read in.\n",
      "Existing z=6.908243865600001 perturb_field boxes found and read in.\n",
      "Existing z=6.908243865600001 perturb_field boxes found and read in.\n",
      "Existing z=6.908243865600001 perturb_field boxes found and read in.\n",
      "Existing z=6.908243865600001 perturb_field boxes found and read in.\n",
      "Existing z=6.604080640000001 perturb_field boxes found and read in.\n",
      "Existing z=6.604080640000001 perturb_field boxes found and read in.\n",
      "Existing z=6.604080640000001 perturb_field boxes found and read in.\n",
      "Existing z=6.604080640000001 perturb_field boxes found and read in.\n",
      "Existing z=6.311616000000001 perturb_field boxes found and read in.\n",
      "Existing z=6.311616000000001 perturb_field boxes found and read in.\n",
      "Existing z=6.311616000000001 perturb_field boxes found and read in.\n",
      "Existing z=6.311616000000001 perturb_field boxes found and read in.\n",
      "Existing z=6.0304 perturb_field boxes found and read in.\n",
      "Existing z=6.0304 perturb_field boxes found and read in.\n",
      "Existing z=6.0304 perturb_field boxes found and read in.\n"
     ]
    },
    {
     "name": "stdout",
     "output_type": "stream",
     "text": [
      "Existing z=6.0304 perturb_field boxes found and read in.\n",
      "Existing z=5.76 perturb_field boxes found and read in.\n",
      "Existing z=5.76 perturb_field boxes found and read in.\n",
      "Existing z=5.76 perturb_field boxes found and read in.\n",
      "Existing z=5.76 perturb_field boxes found and read in.\n",
      "Existing z=5.5 perturb_field boxes found and read in.\n",
      "Existing z=5.5 perturb_field boxes found and read in.\n",
      "Existing z=5.5 perturb_field boxes found and read in.\n",
      "Existing z=5.5 perturb_field boxes found and read in.\n",
      "5.9 0.013586102311152256 0\n",
      "5.9 0.009652804541980212 0\n",
      "5.9 0.050901805530109395 0\n",
      "5.9 0.006588278611096943 0\n",
      "Existing z=8.251526780739653 perturb_field boxes found and read in.\n",
      "Existing z=8.251526780739653 perturb_field boxes found and read in.\n",
      "Existing z=8.251526780739653 perturb_field boxes found and read in.\n",
      "Existing z=8.251526780739653 perturb_field boxes found and read in.\n",
      "Existing z=7.8956988276342805 perturb_field boxes found and read in.\n",
      "Existing z=7.8956988276342805 perturb_field boxes found and read in.\n",
      "Existing z=7.8956988276342805 perturb_field boxes found and read in.\n",
      "Existing z=7.553556565032961 perturb_field boxes found and read in.\n",
      "Existing z=7.8956988276342805 perturb_field boxes found and read in.\n",
      "Existing z=7.553556565032961 perturb_field boxes found and read in.\n",
      "Existing z=7.553556565032961 perturb_field boxes found and read in.\n",
      "Existing z=7.224573620224001 perturb_field boxes found and read in.\n",
      "Existing z=7.553556565032961 perturb_field boxes found and read in.\n",
      "Existing z=7.224573620224001 perturb_field boxes found and read in.\n",
      "Existing z=7.224573620224001 perturb_field boxes found and read in.\n",
      "Existing z=6.908243865600001 perturb_field boxes found and read in.\n",
      "Existing z=7.224573620224001 perturb_field boxes found and read in.\n",
      "Existing z=6.908243865600001 perturb_field boxes found and read in.\n",
      "Existing z=6.908243865600001 perturb_field boxes found and read in.\n",
      "Existing z=6.604080640000001 perturb_field boxes found and read in.\n",
      "Existing z=6.908243865600001 perturb_field boxes found and read in.\n",
      "Existing z=6.604080640000001 perturb_field boxes found and read in.\n",
      "Existing z=6.604080640000001 perturb_field boxes found and read in.\n",
      "Existing z=6.311616000000001 perturb_field boxes found and read in.\n",
      "Existing z=6.604080640000001 perturb_field boxes found and read in.\n",
      "Existing z=6.311616000000001 perturb_field boxes found and read in.\n",
      "Existing z=6.311616000000001 perturb_field boxes found and read in.\n",
      "Existing z=6.0304 perturb_field boxes found and read in.\n",
      "Existing z=6.311616000000001 perturb_field boxes found and read in.\n",
      "Existing z=6.0304 perturb_field boxes found and read in.\n",
      "Existing z=6.0304 perturb_field boxes found and read in.\n",
      "Existing z=5.76 perturb_field boxes found and read in.\n",
      "Existing z=6.0304 perturb_field boxes found and read in.\n",
      "Existing z=5.76 perturb_field boxes found and read in.\n",
      "Existing z=5.76 perturb_field boxes found and read in.\n",
      "Existing z=5.76 perturb_field boxes found and read in.\n",
      "Existing z=5.5 perturb_field boxes found and read in.\n",
      "Existing z=5.5 perturb_field boxes found and read in.\n",
      "Existing z=5.5 perturb_field boxes found and read in.\n",
      "Existing z=5.5 perturb_field boxes found and read in.\n",
      "5.9 0.018816313400489892 0\n",
      "5.9 0.007912084974139148 0\n",
      "5.9 0.03740559355218033 0\n",
      "5.9 0.002651609268215814 0\n",
      "Existing z=8.251526780739653 perturb_field boxes found and read in.\n",
      "Existing z=8.251526780739653 perturb_field boxes found and read in.\n",
      "Existing z=8.251526780739653 perturb_field boxes found and read in.\n",
      "Existing z=8.251526780739653 perturb_field boxes found and read in.\n",
      "Existing z=7.8956988276342805 perturb_field boxes found and read in.\n",
      "Existing z=7.8956988276342805 perturb_field boxes found and read in.\n",
      "Existing z=7.8956988276342805 perturb_field boxes found and read in.\n",
      "Existing z=7.8956988276342805 perturb_field boxes found and read in.\n",
      "Existing z=7.553556565032961 perturb_field boxes found and read in.\n",
      "Existing z=7.553556565032961 perturb_field boxes found and read in.\n",
      "Existing z=7.553556565032961 perturb_field boxes found and read in.\n",
      "Existing z=7.553556565032961 perturb_field boxes found and read in.\n",
      "Existing z=7.224573620224001 perturb_field boxes found and read in.\n",
      "Existing z=7.224573620224001 perturb_field boxes found and read in.\n",
      "Existing z=7.224573620224001 perturb_field boxes found and read in.\n",
      "Existing z=7.224573620224001 perturb_field boxes found and read in.\n",
      "Existing z=6.908243865600001 perturb_field boxes found and read in.\n",
      "Existing z=6.908243865600001 perturb_field boxes found and read in.\n",
      "Existing z=6.604080640000001 perturb_field boxes found and read in.\n",
      "Existing z=6.908243865600001 perturb_field boxes found and read in.\n",
      "Existing z=6.908243865600001 perturb_field boxes found and read in.\n",
      "Existing z=6.311616000000001 perturb_field boxes found and read in.\n",
      "Existing z=6.604080640000001 perturb_field boxes found and read in.\n",
      "Existing z=6.0304 perturb_field boxes found and read in.\n",
      "Existing z=6.604080640000001 perturb_field boxes found and read in.\n",
      "Existing z=6.604080640000001 perturb_field boxes found and read in.\n",
      "Existing z=6.311616000000001 perturb_field boxes found and read in.\n",
      "Existing z=5.76 perturb_field boxes found and read in.\n",
      "Existing z=6.311616000000001 perturb_field boxes found and read in.\n",
      "Existing z=6.0304 perturb_field boxes found and read in.\n",
      "Existing z=6.311616000000001 perturb_field boxes found and read in.\n",
      "Existing z=5.5 perturb_field boxes found and read in.\n",
      "Existing z=6.0304 perturb_field boxes found and read in.\n",
      "Existing z=6.0304 perturb_field boxes found and read in.\n",
      "Existing z=5.76 perturb_field boxes found and read in.\n",
      "Existing z=5.76 perturb_field boxes found and read in.\n",
      "5.9 0.014253178689926442 0\n",
      "Existing z=5.76 perturb_field boxes found and read in.\n",
      "Existing z=5.5 perturb_field boxes found and read in.\n",
      "Existing z=5.5 perturb_field boxes found and read in.\n",
      "Existing z=5.5 perturb_field boxes found and read in.\n",
      "5.9 0.007191242272662528 0\n",
      "5.9 0.017898644940630065 0\n",
      "5.9 0.055984955512472206 0\n",
      "Existing z=8.251526780739653 perturb_field boxes found and read in.\n",
      "Existing z=8.251526780739653 perturb_field boxes found and read in.\n",
      "Existing z=8.251526780739653 perturb_field boxes found and read in.\n",
      "Existing z=8.251526780739653 perturb_field boxes found and read in.\n",
      "Existing z=7.8956988276342805 perturb_field boxes found and read in.\n",
      "Existing z=7.8956988276342805 perturb_field boxes found and read in.\n",
      "Existing z=7.8956988276342805 perturb_field boxes found and read in.\n",
      "Existing z=7.8956988276342805 perturb_field boxes found and read in.\n",
      "Existing z=7.553556565032961 perturb_field boxes found and read in.\n",
      "Existing z=7.553556565032961 perturb_field boxes found and read in.\n",
      "Existing z=7.553556565032961 perturb_field boxes found and read in.\n",
      "Existing z=7.553556565032961 perturb_field boxes found and read in.\n",
      "Existing z=7.224573620224001 perturb_field boxes found and read in.\n",
      "Existing z=7.224573620224001 perturb_field boxes found and read in.\n",
      "Existing z=7.224573620224001 perturb_field boxes found and read in.\n",
      "Existing z=7.224573620224001 perturb_field boxes found and read in.\n",
      "Existing z=6.908243865600001 perturb_field boxes found and read in.\n",
      "Existing z=6.908243865600001 perturb_field boxes found and read in.\n",
      "Existing z=6.604080640000001 perturb_field boxes found and read in.\n",
      "Existing z=6.908243865600001 perturb_field boxes found and read in.\n",
      "Existing z=6.908243865600001 perturb_field boxes found and read in.\n",
      "Existing z=6.604080640000001 perturb_field boxes found and read in.\n",
      "Existing z=6.311616000000001 perturb_field boxes found and read in.\n",
      "Existing z=6.604080640000001 perturb_field boxes found and read in.\n",
      "Existing z=6.604080640000001 perturb_field boxes found and read in.\n",
      "Existing z=6.0304 perturb_field boxes found and read in.\n",
      "Existing z=6.311616000000001 perturb_field boxes found and read in.\n",
      "Existing z=6.311616000000001 perturb_field boxes found and read in.\n",
      "Existing z=6.311616000000001 perturb_field boxes found and read in.\n",
      "Existing z=6.0304 perturb_field boxes found and read in.\n",
      "Existing z=5.76 perturb_field boxes found and read in.\n",
      "Existing z=6.0304 perturb_field boxes found and read in.\n",
      "Existing z=6.0304 perturb_field boxes found and read in.\n",
      "Existing z=5.5 perturb_field boxes found and read in.\n"
     ]
    },
    {
     "name": "stdout",
     "output_type": "stream",
     "text": [
      "Existing z=5.76 perturb_field boxes found and read in.\n",
      "Existing z=5.76 perturb_field boxes found and read in.\n",
      "Existing z=5.76 perturb_field boxes found and read in.\n",
      "Existing z=5.5 perturb_field boxes found and read in.\n",
      "5.9 0.001714354484981292 0\n",
      "Existing z=5.5 perturb_field boxes found and read in.\n",
      "Existing z=5.5 perturb_field boxes found and read in.\n",
      "5.9 0.00914488389148494 0\n",
      "5.9 0.05320344618438974 0\n",
      "5.9 0.026230203632551918 0\n",
      "Existing z=8.251526780739653 perturb_field boxes found and read in.\n",
      "Existing z=8.251526780739653 perturb_field boxes found and read in.\n",
      "Existing z=8.251526780739653 perturb_field boxes found and read in.\n",
      "Existing z=8.251526780739653 perturb_field boxes found and read in.\n",
      "Existing z=7.8956988276342805 perturb_field boxes found and read in.\n",
      "Existing z=7.8956988276342805 perturb_field boxes found and read in.\n",
      "Existing z=7.8956988276342805 perturb_field boxes found and read in.\n",
      "Existing z=7.8956988276342805 perturb_field boxes found and read in.\n",
      "Existing z=7.553556565032961 perturb_field boxes found and read in.\n",
      "Existing z=7.553556565032961 perturb_field boxes found and read in.\n",
      "Existing z=7.553556565032961 perturb_field boxes found and read in.\n",
      "Existing z=7.553556565032961 perturb_field boxes found and read in.\n",
      "Existing z=7.224573620224001 perturb_field boxes found and read in.\n",
      "Existing z=7.224573620224001 perturb_field boxes found and read in.\n",
      "Existing z=7.224573620224001 perturb_field boxes found and read in.\n",
      "Existing z=7.224573620224001 perturb_field boxes found and read in.\n",
      "Existing z=6.908243865600001 perturb_field boxes found and read in.\n",
      "Existing z=6.908243865600001 perturb_field boxes found and read in.\n",
      "Existing z=6.908243865600001 perturb_field boxes found and read in.\n",
      "Existing z=6.908243865600001 perturb_field boxes found and read in.\n",
      "Existing z=6.604080640000001 perturb_field boxes found and read in.\n",
      "Existing z=6.604080640000001 perturb_field boxes found and read in.\n",
      "Existing z=6.604080640000001 perturb_field boxes found and read in.\n",
      "Existing z=6.604080640000001 perturb_field boxes found and read in.\n",
      "Existing z=6.311616000000001 perturb_field boxes found and read in.\n",
      "Existing z=6.311616000000001 perturb_field boxes found and read in.\n",
      "Existing z=6.311616000000001 perturb_field boxes found and read in.\n",
      "Existing z=6.0304 perturb_field boxes found and read in.\n",
      "Existing z=6.311616000000001 perturb_field boxes found and read in.\n",
      "Existing z=6.0304 perturb_field boxes found and read in.\n",
      "Existing z=6.0304 perturb_field boxes found and read in.\n",
      "Existing z=6.0304 perturb_field boxes found and read in.\n",
      "Existing z=5.76 perturb_field boxes found and read in.\n",
      "Existing z=5.76 perturb_field boxes found and read in.\n",
      "Existing z=5.76 perturb_field boxes found and read in.\n",
      "Existing z=5.76 perturb_field boxes found and read in.\n",
      "Existing z=5.5 perturb_field boxes found and read in.\n",
      "Existing z=5.5 perturb_field boxes found and read in.\n",
      "Existing z=5.5 perturb_field boxes found and read in.\n",
      "Existing z=5.5 perturb_field boxes found and read in.\n",
      "5.9 0.02244128455744078 0\n",
      "5.9 0.024280301785680698 0\n",
      "5.9 0.013089244557026593 0\n",
      "5.9 0.006056525242327551 0\n",
      "Existing z=8.251526780739653 perturb_field boxes found and read in.\n",
      "Existing z=8.251526780739653 perturb_field boxes found and read in.\n",
      "Existing z=8.251526780739653 perturb_field boxes found and read in.\n",
      "Existing z=8.251526780739653 perturb_field boxes found and read in.\n",
      "Existing z=7.8956988276342805 perturb_field boxes found and read in.\n",
      "Existing z=7.8956988276342805 perturb_field boxes found and read in.\n",
      "Existing z=7.8956988276342805 perturb_field boxes found and read in.\n",
      "Existing z=7.8956988276342805 perturb_field boxes found and read in.\n",
      "Existing z=7.553556565032961 perturb_field boxes found and read in.\n",
      "Existing z=7.553556565032961 perturb_field boxes found and read in.\n",
      "Existing z=7.553556565032961 perturb_field boxes found and read in.\n",
      "Existing z=7.553556565032961 perturb_field boxes found and read in.\n",
      "Existing z=7.224573620224001 perturb_field boxes found and read in.\n",
      "Existing z=7.224573620224001 perturb_field boxes found and read in.\n",
      "Existing z=7.224573620224001 perturb_field boxes found and read in.\n",
      "Existing z=6.908243865600001 perturb_field boxes found and read in.\n",
      "Existing z=7.224573620224001 perturb_field boxes found and read in.\n",
      "Existing z=6.908243865600001 perturb_field boxes found and read in.\n",
      "Existing z=6.908243865600001 perturb_field boxes found and read in.\n",
      "Existing z=6.908243865600001 perturb_field boxes found and read in.\n",
      "Existing z=6.604080640000001 perturb_field boxes found and read in.\n",
      "Existing z=6.604080640000001 perturb_field boxes found and read in.\n",
      "Existing z=6.604080640000001 perturb_field boxes found and read in.\n",
      "Existing z=6.604080640000001 perturb_field boxes found and read in.\n",
      "Existing z=6.311616000000001 perturb_field boxes found and read in.\n",
      "Existing z=6.311616000000001 perturb_field boxes found and read in.\n",
      "Existing z=6.311616000000001 perturb_field boxes found and read in.\n",
      "Existing z=6.311616000000001 perturb_field boxes found and read in.\n",
      "Existing z=6.0304 perturb_field boxes found and read in.\n",
      "Existing z=6.0304 perturb_field boxes found and read in.\n",
      "Existing z=6.0304 perturb_field boxes found and read in.\n",
      "Existing z=6.0304 perturb_field boxes found and read in.\n",
      "Existing z=5.76 perturb_field boxes found and read in.\n",
      "Existing z=5.76 perturb_field boxes found and read in.\n",
      "Existing z=5.76 perturb_field boxes found and read in.\n",
      "Existing z=5.76 perturb_field boxes found and read in.\n",
      "Existing z=5.5 perturb_field boxes found and read in.\n",
      "Existing z=5.5 perturb_field boxes found and read in.\n",
      "Existing z=5.5 perturb_field boxes found and read in.\n",
      "Existing z=5.5 perturb_field boxes found and read in.\n",
      "5.9 0.05406590109173015 0\n",
      "5.9 0.004819485855553329 0\n",
      "5.9 0.005191725089088002 0\n",
      "5.9 0.02847611901388898 0\n",
      "Existing z=8.251526780739653 perturb_field boxes found and read in.\n",
      "Existing z=8.251526780739653 perturb_field boxes found and read in.\n",
      "Existing z=8.251526780739653 perturb_field boxes found and read in.\n",
      "Existing z=8.251526780739653 perturb_field boxes found and read in.\n",
      "Existing z=7.8956988276342805 perturb_field boxes found and read in.\n",
      "Existing z=7.8956988276342805 perturb_field boxes found and read in.\n",
      "Existing z=7.8956988276342805 perturb_field boxes found and read in.\n",
      "Existing z=7.8956988276342805 perturb_field boxes found and read in.\n",
      "Existing z=7.553556565032961 perturb_field boxes found and read in.\n",
      "Existing z=7.553556565032961 perturb_field boxes found and read in.\n",
      "Existing z=7.553556565032961 perturb_field boxes found and read in.\n",
      "Existing z=7.224573620224001 perturb_field boxes found and read in.\n",
      "Existing z=7.553556565032961 perturb_field boxes found and read in.\n",
      "Existing z=7.224573620224001 perturb_field boxes found and read in.\n",
      "Existing z=7.224573620224001 perturb_field boxes found and read in.\n",
      "Existing z=6.908243865600001 perturb_field boxes found and read in.\n",
      "Existing z=7.224573620224001 perturb_field boxes found and read in.\n",
      "Existing z=6.908243865600001 perturb_field boxes found and read in.\n",
      "Existing z=6.908243865600001 perturb_field boxes found and read in.\n",
      "Existing z=6.604080640000001 perturb_field boxes found and read in.\n",
      "Existing z=6.908243865600001 perturb_field boxes found and read in.\n",
      "Existing z=6.604080640000001 perturb_field boxes found and read in.\n",
      "Existing z=6.604080640000001 perturb_field boxes found and read in.\n",
      "Existing z=6.311616000000001 perturb_field boxes found and read in.\n",
      "Existing z=6.604080640000001 perturb_field boxes found and read in.\n",
      "Existing z=6.311616000000001 perturb_field boxes found and read in.\n",
      "Existing z=6.311616000000001 perturb_field boxes found and read in.\n",
      "Existing z=6.0304 perturb_field boxes found and read in.\n",
      "Existing z=6.311616000000001 perturb_field boxes found and read in.\n",
      "Existing z=6.0304 perturb_field boxes found and read in.\n",
      "Existing z=6.0304 perturb_field boxes found and read in.\n",
      "Existing z=6.0304 perturb_field boxes found and read in.\n",
      "Existing z=5.76 perturb_field boxes found and read in.\n",
      "Existing z=5.76 perturb_field boxes found and read in.\n",
      "Existing z=5.76 perturb_field boxes found and read in.\n",
      "Existing z=5.5 perturb_field boxes found and read in.\n",
      "Existing z=5.5 perturb_field boxes found and read in.\n"
     ]
    },
    {
     "name": "stdout",
     "output_type": "stream",
     "text": [
      "Existing z=5.76 perturb_field boxes found and read in.\n",
      "Existing z=5.5 perturb_field boxes found and read in.\n",
      "Existing z=5.5 perturb_field boxes found and read in.\n",
      "5.9 0.019362376159685276 0\n",
      "5.9 0.01049433772992234 0\n",
      "5.9 0.07062762089558614 0.04517853036011964\n",
      "5.9 0.04746294834447159 0\n",
      "Existing z=8.251526780739653 perturb_field boxes found and read in.\n",
      "Existing z=8.251526780739653 perturb_field boxes found and read in.\n",
      "Existing z=8.251526780739653 perturb_field boxes found and read in.\n",
      "Existing z=8.251526780739653 perturb_field boxes found and read in.\n",
      "Existing z=7.8956988276342805 perturb_field boxes found and read in.\n",
      "Existing z=7.8956988276342805 perturb_field boxes found and read in.\n",
      "Existing z=7.8956988276342805 perturb_field boxes found and read in.\n",
      "Existing z=7.8956988276342805 perturb_field boxes found and read in.\n",
      "Existing z=7.553556565032961 perturb_field boxes found and read in.\n",
      "Existing z=7.553556565032961 perturb_field boxes found and read in.\n",
      "Existing z=7.553556565032961 perturb_field boxes found and read in.\n",
      "Existing z=7.553556565032961 perturb_field boxes found and read in.\n",
      "Existing z=7.224573620224001 perturb_field boxes found and read in.\n",
      "Existing z=7.224573620224001 perturb_field boxes found and read in.\n",
      "Existing z=7.224573620224001 perturb_field boxes found and read in.\n",
      "Existing z=7.224573620224001 perturb_field boxes found and read in.\n",
      "Existing z=6.908243865600001 perturb_field boxes found and read in.\n",
      "Existing z=6.908243865600001 perturb_field boxes found and read in.\n",
      "Existing z=6.908243865600001 perturb_field boxes found and read in.\n",
      "Existing z=6.908243865600001 perturb_field boxes found and read in.\n",
      "Existing z=6.604080640000001 perturb_field boxes found and read in.\n",
      "Existing z=6.604080640000001 perturb_field boxes found and read in.\n",
      "Existing z=6.604080640000001 perturb_field boxes found and read in.\n",
      "Existing z=6.604080640000001 perturb_field boxes found and read in.\n",
      "Existing z=6.311616000000001 perturb_field boxes found and read in.\n",
      "Existing z=6.311616000000001 perturb_field boxes found and read in.\n",
      "Existing z=6.311616000000001 perturb_field boxes found and read in.\n",
      "Existing z=6.0304 perturb_field boxes found and read in.\n",
      "Existing z=6.311616000000001 perturb_field boxes found and read in.\n",
      "Existing z=6.0304 perturb_field boxes found and read in.\n",
      "Existing z=6.0304 perturb_field boxes found and read in.\n",
      "Existing z=5.76 perturb_field boxes found and read in.\n",
      "Existing z=6.0304 perturb_field boxes found and read in.\n",
      "Existing z=5.76 perturb_field boxes found and read in.\n",
      "Existing z=5.5 perturb_field boxes found and read in.\n",
      "Existing z=5.76 perturb_field boxes found and read in.\n",
      "Existing z=5.76 perturb_field boxes found and read in.\n",
      "Existing z=5.5 perturb_field boxes found and read in.\n",
      "Existing z=5.5 perturb_field boxes found and read in.\n",
      "5.9 0.006757701306945528 0\n",
      "Existing z=5.5 perturb_field boxes found and read in.\n",
      "5.9 0.0031388919351391055 0\n",
      "5.9 0.056334779845804206 0\n",
      "5.9 0.040355829654272535 0\n",
      "Existing z=8.251526780739653 perturb_field boxes found and read in.\n",
      "Existing z=8.251526780739653 perturb_field boxes found and read in.\n",
      "Existing z=8.251526780739653 perturb_field boxes found and read in.\n",
      "Existing z=8.251526780739653 perturb_field boxes found and read in.\n",
      "Existing z=7.8956988276342805 perturb_field boxes found and read in.\n",
      "Existing z=7.8956988276342805 perturb_field boxes found and read in.\n",
      "Existing z=7.8956988276342805 perturb_field boxes found and read in.\n",
      "Existing z=7.553556565032961 perturb_field boxes found and read in.\n",
      "Existing z=7.8956988276342805 perturb_field boxes found and read in.\n",
      "Existing z=7.553556565032961 perturb_field boxes found and read in.\n",
      "Existing z=7.224573620224001 perturb_field boxes found and read in.\n",
      "Existing z=7.553556565032961 perturb_field boxes found and read in.\n",
      "Existing z=7.553556565032961 perturb_field boxes found and read in.\n",
      "Existing z=7.224573620224001 perturb_field boxes found and read in.\n",
      "Existing z=6.908243865600001 perturb_field boxes found and read in.\n",
      "Existing z=7.224573620224001 perturb_field boxes found and read in.\n",
      "Existing z=6.908243865600001 perturb_field boxes found and read in.\n",
      "Existing z=7.224573620224001 perturb_field boxes found and read in.\n",
      "Existing z=6.604080640000001 perturb_field boxes found and read in.\n",
      "Existing z=6.908243865600001 perturb_field boxes found and read in.\n",
      "Existing z=6.604080640000001 perturb_field boxes found and read in.\n",
      "Existing z=6.908243865600001 perturb_field boxes found and read in.\n",
      "Existing z=6.311616000000001 perturb_field boxes found and read in.\n",
      "Existing z=6.604080640000001 perturb_field boxes found and read in.\n",
      "Existing z=6.311616000000001 perturb_field boxes found and read in.\n",
      "Existing z=6.604080640000001 perturb_field boxes found and read in.\n",
      "Existing z=6.0304 perturb_field boxes found and read in.\n",
      "Existing z=6.311616000000001 perturb_field boxes found and read in.\n",
      "Existing z=6.0304 perturb_field boxes found and read in.\n",
      "Existing z=6.311616000000001 perturb_field boxes found and read in.\n",
      "Existing z=5.76 perturb_field boxes found and read in.\n",
      "Existing z=5.76 perturb_field boxes found and read in.\n",
      "Existing z=6.0304 perturb_field boxes found and read in.\n",
      "Existing z=6.0304 perturb_field boxes found and read in.\n",
      "Existing z=5.5 perturb_field boxes found and read in.\n",
      "Existing z=5.5 perturb_field boxes found and read in.\n",
      "Existing z=5.76 perturb_field boxes found and read in.\n",
      "5.9 0.0504195660286578 0\n",
      "Existing z=5.76 perturb_field boxes found and read in.\n",
      "5.9 0.007818791327154904 0\n",
      "Existing z=5.5 perturb_field boxes found and read in.\n",
      "Existing z=5.5 perturb_field boxes found and read in.\n",
      "5.9 0.0013678413998341131 0\n",
      "5.9 0.052300754670031716 0\n",
      "Existing z=8.251526780739653 perturb_field boxes found and read in.\n",
      "Existing z=8.251526780739653 perturb_field boxes found and read in.\n",
      "Existing z=8.251526780739653 perturb_field boxes found and read in.\n",
      "Existing z=8.251526780739653 perturb_field boxes found and read in.\n",
      "Existing z=7.8956988276342805 perturb_field boxes found and read in.\n",
      "Existing z=7.8956988276342805 perturb_field boxes found and read in.\n",
      "Existing z=7.8956988276342805 perturb_field boxes found and read in.\n",
      "Existing z=7.8956988276342805 perturb_field boxes found and read in.\n",
      "Existing z=7.553556565032961 perturb_field boxes found and read in.\n",
      "Existing z=7.553556565032961 perturb_field boxes found and read in.\n",
      "Existing z=7.553556565032961 perturb_field boxes found and read in.\n",
      "Existing z=7.553556565032961 perturb_field boxes found and read in.\n",
      "Existing z=7.224573620224001 perturb_field boxes found and read in.\n",
      "Existing z=7.224573620224001 perturb_field boxes found and read in.\n",
      "Existing z=7.224573620224001 perturb_field boxes found and read in.\n",
      "Existing z=7.224573620224001 perturb_field boxes found and read in.\n",
      "Existing z=6.908243865600001 perturb_field boxes found and read in.\n",
      "Existing z=6.908243865600001 perturb_field boxes found and read in.\n",
      "Existing z=6.908243865600001 perturb_field boxes found and read in.\n",
      "Existing z=6.604080640000001 perturb_field boxes found and read in.\n",
      "Existing z=6.908243865600001 perturb_field boxes found and read in.\n",
      "Existing z=6.604080640000001 perturb_field boxes found and read in.\n",
      "Existing z=6.604080640000001 perturb_field boxes found and read in.\n",
      "Existing z=6.604080640000001 perturb_field boxes found and read in.\n",
      "Existing z=6.311616000000001 perturb_field boxes found and read in.\n",
      "Existing z=6.311616000000001 perturb_field boxes found and read in.\n",
      "Existing z=6.311616000000001 perturb_field boxes found and read in.\n",
      "Existing z=6.0304 perturb_field boxes found and read in.\n",
      "Existing z=6.311616000000001 perturb_field boxes found and read in.\n",
      "Existing z=5.76 perturb_field boxes found and read in.\n",
      "Existing z=6.0304 perturb_field boxes found and read in.\n",
      "Existing z=6.0304 perturb_field boxes found and read in.\n",
      "Existing z=6.0304 perturb_field boxes found and read in.\n",
      "Existing z=5.76 perturb_field boxes found and read in.\n",
      "Existing z=5.5 perturb_field boxes found and read in.\n",
      "Existing z=5.76 perturb_field boxes found and read in.\n",
      "Existing z=5.76 perturb_field boxes found and read in.\n",
      "Existing z=5.5 perturb_field boxes found and read in.\n",
      "5.9 0.0035419101129732415 0\n",
      "Existing z=5.5 perturb_field boxes found and read in.\n",
      "Existing z=5.5 perturb_field boxes found and read in.\n"
     ]
    },
    {
     "name": "stdout",
     "output_type": "stream",
     "text": [
      "5.9 0.008396537234654012 0\n",
      "5.9 0.04003319156923771 0\n",
      "5.9 0.056014336425171854 0\n"
     ]
    }
   ],
   "source": [
    "model_name = \"MultiLikelihoodTest\"\n",
    "\n",
    "chain = mcmc.run_mcmc(\n",
    "    core, [likelihood_ps, likelihood_mcgreer, likelihood_greig],#, likelihood_planck],\n",
    "    datadir='data',          # Directory for all outputs\n",
    "    model_name=model_name,   # Filename of main chain output\n",
    "    params=dict(             # Parameter dict as described above.\n",
    "        HII_EFF_FACTOR = [30.0, 10.0, 50.0, 3.0],\n",
    "        ION_Tvir_MIN = [4.7, 2, 8, 0.1],\n",
    "    ), \n",
    "    walkersRatio=4,         # The number of walkers will be walkersRatio*nparams\n",
    "    burninIterations=0,      # Number of iterations to save as burnin. Recommended to leave as zero.\n",
    "    sampleIterations=5,    # Number of iterations to sample, per walker.\n",
    "    threadCount=4,           # Number of processes to use in MCMC (best as a factor of walkersRatio)\n",
    "    continue_sampling=False  # Whether to contine sampling from previous run *up to* sampleIterations.\n",
    ")"
   ]
  },
  {
   "cell_type": "markdown",
   "metadata": {},
   "source": [
    "## Analysis"
   ]
  },
  {
   "cell_type": "markdown",
   "metadata": {},
   "source": [
    "### Accessing chain data"
   ]
  },
  {
   "cell_type": "markdown",
   "metadata": {},
   "source": [
    "Access the samples object within the chain (see the intro for more details):"
   ]
  },
  {
   "cell_type": "code",
   "execution_count": 6,
   "metadata": {
    "ExecuteTime": {
     "end_time": "2018-10-10T19:02:27.962490Z",
     "start_time": "2018-10-10T19:02:27.915441Z"
    }
   },
   "outputs": [],
   "source": [
    "samples = chain.samples"
   ]
  },
  {
   "cell_type": "markdown",
   "metadata": {},
   "source": [
    "### Trace Plot"
   ]
  },
  {
   "cell_type": "markdown",
   "metadata": {},
   "source": [
    "Often, for diagnostic purposes, the most useful plot to start with is the trace plot. This enables quick diagnosis of burnin time and walkers that haven't converged. The function in ``py21cmmc`` by default plots the log probability along with the various parameters that were fit. It also supports setting a starting iteration, and a thinning amount. "
   ]
  },
  {
   "cell_type": "code",
   "execution_count": 7,
   "metadata": {
    "ExecuteTime": {
     "end_time": "2018-10-10T19:02:30.531572Z",
     "start_time": "2018-10-10T19:02:29.935010Z"
    }
   },
   "outputs": [
    {
     "data": {
      "image/png": "[encoded data removed]",
      "text/plain": [
       "<matplotlib.figure.Figure at 0x7f9e406efda0>"
      ]
     },
     "metadata": {},
     "output_type": "display_data"
    }
   ],
   "source": [
    "analyse.trace_plot(samples, include_lnl=True, start_iter=0, thin=1, colored=False, show_guess=True);"
   ]
  },
  {
   "cell_type": "markdown",
   "metadata": {},
   "source": [
    "### Corner Plot"
   ]
  },
  {
   "cell_type": "code",
   "execution_count": 9,
   "metadata": {
    "ExecuteTime": {
     "end_time": "2018-10-10T00:54:49.841918Z",
     "start_time": "2018-10-10T00:54:49.121643Z"
    }
   },
   "outputs": [
    {
     "data": {
      "image/png": "[encoded data removed]",
      "text/plain": [
       "<matplotlib.figure.Figure at 0x7fdc3ee2acf8>"
      ]
     },
     "metadata": {},
     "output_type": "display_data"
    }
   ],
   "source": [
    "analyse.corner_plot(samples);"
   ]
  }
 ],
 "metadata": {
  "celltoolbar": "Initialization Cell",
  "kernelspec": {
   "display_name": "Python [conda env:21CMMC]",
   "language": "python",
   "name": "conda-env-21CMMC-py"
  },
  "language_info": {
   "codemirror_mode": {
    "name": "ipython",
    "version": 3
   },
   "file_extension": ".py",
   "mimetype": "text/x-python",
   "name": "python",
   "nbconvert_exporter": "python",
   "pygments_lexer": "ipython3",
   "version": "3.6.3"
  },
  "latex_envs": {
   "LaTeX_envs_menu_present": true,
   "autoclose": false,
   "autocomplete": true,
   "bibliofile": "biblio.bib",
   "cite_by": "apalike",
   "current_citInitial": 1,
   "eqLabelWithNumbers": true,
   "eqNumInitial": 1,
   "hotkeys": {
    "equation": "Ctrl-E",
    "itemize": "Ctrl-I"
   },
   "labels_anchors": false,
   "latex_user_defs": false,
   "report_style_numbering": false,
   "user_envs_cfg": false
  },
  "toc": {
   "nav_menu": {},
   "number_sections": true,
   "sideBar": true,
   "skip_h1_title": false,
   "toc_cell": false,
   "toc_position": {},
   "toc_section_display": true,
   "toc_window_display": true
  },
  "varInspector": {
   "cols": {
    "lenName": 16,
    "lenType": 16,
    "lenVar": 40
   },
   "kernels_config": {
    "python": {
     "delete_cmd_postfix": "",
     "delete_cmd_prefix": "del ",
     "library": "var_list.py",
     "varRefreshCmd": "print(var_dic_list())"
    },
    "r": {
     "delete_cmd_postfix": ") ",
     "delete_cmd_prefix": "rm(",
     "library": "var_list.r",
     "varRefreshCmd": "cat(var_dic_list()) "
    }
   },
   "types_to_exclude": [
    "module",
    "function",
    "builtin_function_or_method",
    "instance",
    "_Feature"
   ],
   "window_display": false
  }
 },
 "nbformat": 4,
 "nbformat_minor": 2
}
