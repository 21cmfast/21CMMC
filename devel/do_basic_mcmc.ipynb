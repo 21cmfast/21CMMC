{
 "cells": [
  {
   "cell_type": "markdown",
   "metadata": {},
   "source": [
    "# Do a Basic MCMC on Noise-less Coeval Boxes"
   ]
  },
  {
   "cell_type": "code",
   "execution_count": 1,
   "metadata": {},
   "outputs": [],
   "source": [
    "from py21cmmc import mcmc\n",
    "%matplotlib inline\n",
    "import matplotlib.pyplot as plt\n",
    "\n",
    "import numpy as np\n",
    "from corner import corner"
   ]
  },
  {
   "cell_type": "markdown",
   "metadata": {},
   "source": [
    "In this notebook we demonstrate how to do the simplest possible MCMC to fit a single astrophysical parameter to a series of coeval brightness temperature boxes without noise, and then visualise the results."
   ]
  },
  {
   "cell_type": "markdown",
   "metadata": {},
   "source": [
    "## Running MCMC"
   ]
  },
  {
   "cell_type": "markdown",
   "metadata": {},
   "source": [
    "First we create the two necessary components, a ``core`` and ``likelihood`` object. Multiple ``core``s and ``likelihood``s are allowed, and they will work together seamlessly. But we need at least one each.\n",
    "\n",
    "Here we also demonstrate how one can add custom data to the storage, by subclassing the core object. NOTE: there are a lot more options around this, but this is a simple way."
   ]
  },
  {
   "cell_type": "code",
   "execution_count": 2,
   "metadata": {},
   "outputs": [],
   "source": [
    "class MyCore(mcmc.CoreCoevalModule):\n",
    "    def prepare_storage(self, ctx, storage):\n",
    "        storage['bt'] = ctx.get(\"brightness_temp\")[0].brightness_temp"
   ]
  },
  {
   "cell_type": "code",
   "execution_count": 3,
   "metadata": {},
   "outputs": [],
   "source": [
    "core = MyCore(\n",
    "    redshifts = [7, 8, 9],\n",
    "    user_params = dict(\n",
    "        HII_DIM = 70,\n",
    "        BOX_LEN = 150.0\n",
    "    )\n",
    ")\n",
    "\n",
    "likelihood = mcmc.Likelihood1DPowerCoeval(\n",
    "    datafile = \"simple_mcmc_data.txt\",\n",
    "    logk=False\n",
    ")"
   ]
  },
  {
   "cell_type": "markdown",
   "metadata": {},
   "source": [
    "Then run the MCMC using these objects, and supplying also a dictionary of parameters that will be varied in the MCMC:"
   ]
  },
  {
   "cell_type": "code",
   "execution_count": 4,
   "metadata": {},
   "outputs": [],
   "source": [
    "params = {\"HII_EFF_FACTOR\":[30.0, 20.0, 40.0, 3.0]}"
   ]
  },
  {
   "cell_type": "code",
   "execution_count": 5,
   "metadata": {},
   "outputs": [
    {
     "name": "stdout",
     "output_type": "stream",
     "text": [
      "Initializing init and perturb boxes for the entire chain... done.\n",
      "Writing mock data to file\n"
     ]
    }
   ],
   "source": [
    "model_name = \"SimpleTest\"\n",
    "\n",
    "chain = mcmc.run_mcmc(\n",
    "    core, likelihood, \n",
    "    datadir='.', model_name=model_name,\n",
    "    params=params, \n",
    "    walkersRatio=10, burninIterations=50, sampleIterations=200, threadCount=1, continue_sampling=False\n",
    ")"
   ]
  },
  {
   "cell_type": "markdown",
   "metadata": {},
   "source": [
    "## Analysis"
   ]
  },
  {
   "cell_type": "markdown",
   "metadata": {},
   "source": [
    "### Accessing chain data"
   ]
  },
  {
   "cell_type": "markdown",
   "metadata": {},
   "source": [
    "The full chain data, as well as any stored data (as \"blobs\") is available in the ``storageUtil`` object within the chain.\n",
    "If access to this \"chain\" object is lost (eg. the MCMC was run via CLI and is finished), an exact replica of the store object can be read in from file:"
   ]
  },
  {
   "cell_type": "code",
   "execution_count": 6,
   "metadata": {},
   "outputs": [],
   "source": [
    "store = chain.storageUtil.sample_storage\n",
    "\n",
    "# Equivalent:\n",
    "# from py21cmmc.mcmc.storage import HDFStorage\n",
    "# store = HDFStorage(model_name+\".h5\", name=\"sample_0\")"
   ]
  },
  {
   "cell_type": "markdown",
   "metadata": {},
   "source": [
    "This file will always be available, and is saved at ``datadir/model_name.h5``. The ``name=sample_0`` is the default name of the ``group`` within the file where the data is saved. It is possible to use ``sample_1`` etc. by running multiple (indpendent) chains on the same model."
   ]
  },
  {
   "cell_type": "code",
   "execution_count": 7,
   "metadata": {},
   "outputs": [],
   "source": [
    "chain = store.get_value(\"chain\")\n",
    "lnprob = store.get_value(\"log_prob\")\n",
    "blobs = store.get_value('blobs', flat=True)\n",
    "\n",
    "niter, nwalkers, nparams = chain.shape"
   ]
  },
  {
   "cell_type": "markdown",
   "metadata": {},
   "source": [
    "We can see what extra data we saved along the way by viewing the blobs dtype:"
   ]
  },
  {
   "cell_type": "code",
   "execution_count": 8,
   "metadata": {},
   "outputs": [
    {
     "data": {
      "text/plain": [
       "dtype([('bt', '<f4', (70, 70, 70)), ('power', '<f8', (3, 11)), ('k', '<f8', (11,))])"
      ]
     },
     "execution_count": 8,
     "metadata": {},
     "output_type": "execute_result"
    }
   ],
   "source": [
    "blobs.dtype"
   ]
  },
  {
   "cell_type": "markdown",
   "metadata": {},
   "source": [
    "Then for simplicity we can extract these:"
   ]
  },
  {
   "cell_type": "code",
   "execution_count": 9,
   "metadata": {},
   "outputs": [
    {
     "name": "stdout",
     "output_type": "stream",
     "text": [
      "(2000, 11) (2000, 3, 11)\n"
     ]
    }
   ],
   "source": [
    "k = blobs['k']\n",
    "model_power = blobs['power']\n",
    "\n",
    "print(k.shape, model_power.shape)\n",
    "\n",
    "_, nz, nk = model_power.shape"
   ]
  },
  {
   "cell_type": "markdown",
   "metadata": {},
   "source": [
    "Here we notice that ``k`` should be the same on each iteration, so we take just the first:"
   ]
  },
  {
   "cell_type": "code",
   "execution_count": 10,
   "metadata": {},
   "outputs": [
    {
     "name": "stdout",
     "output_type": "stream",
     "text": [
      "True\n"
     ]
    }
   ],
   "source": [
    "print(np.all(k[0] == k[1]))\n",
    "k = k[0]"
   ]
  },
  {
   "cell_type": "markdown",
   "metadata": {},
   "source": [
    "Finally, we also want to access the *data* to which the models have been compared. Since we have access to the original ``likelihood`` object, we can easily pull this from it. However, we equivalently could have read it in from file (this file is *not* always present, only if ``datafile`` is present in the likelihood constructor):"
   ]
  },
  {
   "cell_type": "code",
   "execution_count": 11,
   "metadata": {},
   "outputs": [],
   "source": [
    "p_data = np.array(likelihood.p_data)\n",
    "k_data = likelihood.k_data\n",
    "\n",
    "# Equivalent\n",
    "# data = np.genfromtxt(\"simple_mcmc_data.txt\")\n",
    "# k_data = data[:,0]\n",
    "# p_data = data[:,1:]"
   ]
  },
  {
   "cell_type": "markdown",
   "metadata": {},
   "source": [
    "We check that the data and model *k* are the same:"
   ]
  },
  {
   "cell_type": "code",
   "execution_count": 12,
   "metadata": {},
   "outputs": [
    {
     "name": "stdout",
     "output_type": "stream",
     "text": [
      "True\n",
      "True\n"
     ]
    }
   ],
   "source": [
    "print(np.all(k_data == k))\n",
    "print(p_data.shape == model_power[0].shape)"
   ]
  },
  {
   "cell_type": "markdown",
   "metadata": {},
   "source": [
    "### Model Plot"
   ]
  },
  {
   "cell_type": "code",
   "execution_count": 13,
   "metadata": {},
   "outputs": [
    {
     "data": {
      "text/plain": [
       "Text(0,0.5,'$k^3 P$')"
      ]
     },
     "execution_count": 13,
     "metadata": {},
     "output_type": "execute_result"
    },
    {
     "data": {
      "image/png": "[encoded data removed]",
      "text/plain": [
       "<Figure size 1296x324 with 3 Axes>"
      ]
     },
     "metadata": {},
     "output_type": "display_data"
    }
   ],
   "source": [
    "fig, ax = plt.subplots(1, nz, sharex=True, sharey=True, figsize=(6*nz, 4.5), \n",
    "                      subplot_kw={\"xscale\":'log', \"yscale\":'log'}, gridspec_kw={\"hspace\":0.05, 'wspace':0.05})\n",
    "\n",
    "for i in range(nz):\n",
    "    this_power = model_power[:,i,:]\n",
    "    this_data = p_data[i]\n",
    "\n",
    "    \n",
    "    ax[i].fill_between([0.1, 1.0], 1e2, 1e4, color='tan', alpha=0.3, label=\"fitted region\")\n",
    "\n",
    "    label=\"models\"\n",
    "    every=1\n",
    "    \n",
    "    for pp in this_power[::every]:\n",
    "        ax[i].plot(k, pp*k**3, color='k', alpha=0.2, label=label, zorder=1)\n",
    "        if label:\n",
    "            label=None\n",
    "\n",
    "    mean = np.mean(this_power*k**3, axis=0)\n",
    "    std = np.std(this_power*k**3, axis=0)\n",
    "    md = np.median(this_power*k**3, axis=0)\n",
    "\n",
    "    ax[i].fill_between(k, mean - std, mean+std, color=\"C0\", alpha=0.6)\n",
    "    ax[i].plot(k, md, color=\"C0\", label=\"median model\")\n",
    "\n",
    "    ax[i].errorbar(k, this_data*k**3, yerr = (0.15*this_data*k**3), color=\"C1\", \n",
    "                 label=\"data\", ls=\"None\", markersize=5, marker='o')\n",
    "                 \n",
    "    ax[i].set_xlabel(\"$k$ [1/Mpc]\", fontsize=15)\n",
    "    ax[i].text(0.8, 0.1, \"z=%s\"%core.redshifts[i], transform=ax[i].transAxes, fontsize=15, fontweight='bold')\n",
    "    \n",
    "ax[0].legend(ncol=2, fontsize=12)\n",
    "#plt.ylim((3.1e2, 3.5e3))\n",
    "\n",
    "\n",
    "ax[0].set_ylabel(\"$k^3 P$\", fontsize=15)\n",
    "\n",
    "#plt.savefig(join(direc, modelname+\"_power_spectrum_plot.pdf\"))"
   ]
  },
  {
   "cell_type": "markdown",
   "metadata": {},
   "source": [
    "### Corner Plot"
   ]
  },
  {
   "cell_type": "code",
   "execution_count": 14,
   "metadata": {},
   "outputs": [
    {
     "data": {
      "image/png": "[encoded data removed]",
      "text/plain": [
       "<Figure size 396x396 with 4 Axes>"
      ]
     },
     "metadata": {},
     "output_type": "display_data"
    }
   ],
   "source": [
    "INCLUDE_LNL = True\n",
    "truths = [30.0]\n",
    "\n",
    "if INCLUDE_LNL:\n",
    "    plotchain = np.vstack((chain.T,np.atleast_3d(lnprob).T)).T.reshape((-1, nparams+1))\n",
    "    truths += [None]\n",
    "    labels = [\"alpha\", 'lnL']\n",
    "else:\n",
    "    plotchain = chain.reshape((-1, nparams))\n",
    "    labels = ['alpha']\n",
    "    \n",
    "corner(\n",
    "    plotchain, \n",
    "    labels=labels, \n",
    "    truths=truths,\n",
    "    smooth=0.75,\n",
    "    smooth1d=1.0,\n",
    "    show_titles=True,\n",
    "    quantiles=[0.16, 0.5, 0.84]\n",
    ");\n"
   ]
  },
  {
   "cell_type": "markdown",
   "metadata": {},
   "source": [
    "### Trace Plot"
   ]
  },
  {
   "cell_type": "code",
   "execution_count": 78,
   "metadata": {},
   "outputs": [
    {
     "ename": "NameError",
     "evalue": "name 'params' is not defined",
     "output_type": "error",
     "traceback": [
      "\u001b[0;31m---------------------------------------------------------------------------\u001b[0m",
      "\u001b[0;31mNameError\u001b[0m                                 Traceback (most recent call last)",
      "\u001b[0;32m<ipython-input-78-002d5fc85a56>\u001b[0m in \u001b[0;36m<module>\u001b[0;34m()\u001b[0m\n\u001b[1;32m      3\u001b[0m     \u001b[0;32mfor\u001b[0m \u001b[0mj\u001b[0m \u001b[0;32min\u001b[0m \u001b[0mrange\u001b[0m\u001b[0;34m(\u001b[0m\u001b[0mnparams\u001b[0m\u001b[0;34m)\u001b[0m\u001b[0;34m:\u001b[0m\u001b[0;34m\u001b[0m\u001b[0m\n\u001b[1;32m      4\u001b[0m         \u001b[0max\u001b[0m\u001b[0;34m[\u001b[0m\u001b[0mj\u001b[0m\u001b[0;34m]\u001b[0m\u001b[0;34m.\u001b[0m\u001b[0mplot\u001b[0m\u001b[0;34m(\u001b[0m\u001b[0mchain\u001b[0m\u001b[0;34m[\u001b[0m\u001b[0;34m:\u001b[0m\u001b[0;34m,\u001b[0m\u001b[0mi\u001b[0m\u001b[0;34m,\u001b[0m\u001b[0mj\u001b[0m\u001b[0;34m]\u001b[0m\u001b[0;34m,\u001b[0m \u001b[0mcolor\u001b[0m\u001b[0;34m=\u001b[0m\u001b[0;34m'C%s'\u001b[0m\u001b[0;34m%\u001b[0m\u001b[0;34m(\u001b[0m\u001b[0mi\u001b[0m\u001b[0;34m%\u001b[0m\u001b[0;36m8\u001b[0m\u001b[0;34m)\u001b[0m\u001b[0;34m,\u001b[0m \u001b[0malpha\u001b[0m\u001b[0;34m=\u001b[0m\u001b[0;36m0.75\u001b[0m\u001b[0;34m,\u001b[0m \u001b[0mlw\u001b[0m\u001b[0;34m=\u001b[0m\u001b[0;36m1\u001b[0m\u001b[0;34m)\u001b[0m\u001b[0;34m\u001b[0m\u001b[0m\n\u001b[0;32m----> 5\u001b[0;31m         \u001b[0max\u001b[0m\u001b[0;34m[\u001b[0m\u001b[0mj\u001b[0m\u001b[0;34m]\u001b[0m\u001b[0;34m.\u001b[0m\u001b[0mset_ylabel\u001b[0m\u001b[0;34m(\u001b[0m\u001b[0mparams\u001b[0m\u001b[0;34m[\u001b[0m\u001b[0mj\u001b[0m\u001b[0;34m]\u001b[0m\u001b[0;34m)\u001b[0m\u001b[0;34m\u001b[0m\u001b[0m\n\u001b[0m\u001b[1;32m      6\u001b[0m \u001b[0;34m\u001b[0m\u001b[0m\n\u001b[1;32m      7\u001b[0m     \u001b[0max\u001b[0m\u001b[0;34m[\u001b[0m\u001b[0mnparams\u001b[0m\u001b[0;34m]\u001b[0m\u001b[0;34m.\u001b[0m\u001b[0mplot\u001b[0m\u001b[0;34m(\u001b[0m\u001b[0mlnprob\u001b[0m\u001b[0;34m[\u001b[0m\u001b[0;34m:\u001b[0m\u001b[0;34m,\u001b[0m \u001b[0mi\u001b[0m\u001b[0;34m]\u001b[0m\u001b[0;34m,\u001b[0m \u001b[0mcolor\u001b[0m\u001b[0;34m=\u001b[0m\u001b[0;34m'C%s'\u001b[0m\u001b[0;34m%\u001b[0m\u001b[0;34m(\u001b[0m\u001b[0mi\u001b[0m\u001b[0;34m%\u001b[0m\u001b[0;36m8\u001b[0m\u001b[0;34m)\u001b[0m\u001b[0;34m,\u001b[0m \u001b[0malpha\u001b[0m\u001b[0;34m=\u001b[0m\u001b[0;36m0.75\u001b[0m\u001b[0;34m,\u001b[0m \u001b[0mlw\u001b[0m\u001b[0;34m=\u001b[0m\u001b[0;36m1\u001b[0m\u001b[0;34m)\u001b[0m\u001b[0;34m\u001b[0m\u001b[0m\n",
      "\u001b[0;31mNameError\u001b[0m: name 'params' is not defined"
     ]
    },
    {
     "data": {
      "image/png": "[encoded data removed]",
      "text/plain": [
       "<Figure size 432x288 with 2 Axes>"
      ]
     },
     "metadata": {},
     "output_type": "display_data"
    }
   ],
   "source": [
    "fig, ax = plt.subplots(nparams+1,1, sharex=True)\n",
    "for i in range(nwalkers):\n",
    "    for j in range(nparams):\n",
    "        ax[j].plot(chain[:,i,j], color='C%s'%(i%8), alpha=0.75, lw=1)\n",
    "        ax[j].set_ylabel(params[j])\n",
    "\n",
    "    ax[nparams].plot(lnprob[:, i], color='C%s'%(i%8), alpha=0.75, lw=1)\n",
    "    ax[nparams].set_ylabel(\"lnL\")\n",
    "#    ax[nparams].set_ylim(-5,0)"
   ]
  },
  {
   "cell_type": "code",
   "execution_count": null,
   "metadata": {},
   "outputs": [],
   "source": []
  }
 ],
 "metadata": {
  "kernelspec": {
   "display_name": "Python [conda env:21CMMC]",
   "language": "python",
   "name": "conda-env-21CMMC-py"
  },
  "language_info": {
   "codemirror_mode": {
    "name": "ipython",
    "version": 3
   },
   "file_extension": ".py",
   "mimetype": "text/x-python",
   "name": "python",
   "nbconvert_exporter": "python",
   "pygments_lexer": "ipython3",
   "version": "3.6.5"
  },
  "latex_envs": {
   "LaTeX_envs_menu_present": true,
   "autoclose": false,
   "autocomplete": true,
   "bibliofile": "biblio.bib",
   "cite_by": "apalike",
   "current_citInitial": 1,
   "eqLabelWithNumbers": true,
   "eqNumInitial": 1,
   "hotkeys": {
    "equation": "Ctrl-E",
    "itemize": "Ctrl-I"
   },
   "labels_anchors": false,
   "latex_user_defs": false,
   "report_style_numbering": false,
   "user_envs_cfg": false
  },
  "toc": {
   "base_numbering": 1,
   "nav_menu": {},
   "number_sections": true,
   "sideBar": true,
   "skip_h1_title": false,
   "title_cell": "Table of Contents",
   "title_sidebar": "Contents",
   "toc_cell": false,
   "toc_position": {},
   "toc_section_display": true,
   "toc_window_display": false
  }
 },
 "nbformat": 4,
 "nbformat_minor": 2
}
